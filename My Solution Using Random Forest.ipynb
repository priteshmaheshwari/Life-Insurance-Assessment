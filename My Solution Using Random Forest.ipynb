{
 "cells": [
  {
   "cell_type": "code",
   "execution_count": 15,
   "metadata": {},
   "outputs": [],
   "source": [
    "##########    Importing Libraries   ##########\n",
    "\n",
    "import pandas as pd\n",
    "import numpy as np\n",
    "from sklearn.neighbors import KNeighborsClassifier\n",
    "from sklearn.ensemble import RandomForestClassifier\n",
    "from sklearn.model_selection import train_test_split, cross_val_score\n",
    "import pandas_profiling as pdp\n",
    "import matplotlib.pyplot as plt\n",
    "import seaborn as sns\n",
    "from sklearn import svm\n",
    "from sklearn import ensemble\n",
    "from sklearn.metrics import accuracy_score, confusion_matrix, classification_report\n",
    "%matplotlib inline\n",
    "plt.style.use('fivethirtyeight')\n"
   ]
  },
  {
   "cell_type": "code",
   "execution_count": 16,
   "metadata": {
    "scrolled": true
   },
   "outputs": [],
   "source": [
    "######## Dataset loading: Train & Test  ######### \n",
    "\n",
    "train = pd.read_csv('train.csv.zip')\n",
    "test = pd.read_csv('test.csv.zip')\n",
    "test_1 = pd.read_csv('test.csv.zip')\n",
    "\n",
    "\n",
    "# train.head()"
   ]
  },
  {
   "cell_type": "code",
   "execution_count": 17,
   "metadata": {},
   "outputs": [],
   "source": [
    "######## Fill na values with median ######### \n",
    "\n",
    "train = train.fillna(train.median())\n",
    "test = test.fillna(test.median())\n",
    "\n",
    "# train.head()"
   ]
  },
  {
   "cell_type": "code",
   "execution_count": 18,
   "metadata": {},
   "outputs": [],
   "source": [
    "######## Assigned response in the train into the y_train ########\n",
    "y_train = train[\"Response\"]\n",
    "\n",
    "######## Drop Response ID and Product info 2 from train data ########\n",
    "train = train.drop(['Response','Id','Product_Info_2'], axis = 1)\n",
    "\n",
    "######## Drop ID and Product info 2 from test data ########\n",
    "test = test.drop(['Id','Product_Info_2'], axis = 1)"
   ]
  },
  {
   "cell_type": "code",
   "execution_count": 19,
   "metadata": {},
   "outputs": [],
   "source": [
    "######## Convert train and test data into float ########\n",
    "train = train.astype(float)\n",
    "test = test.astype(float)\n",
    "# train.head()"
   ]
  },
  {
   "cell_type": "code",
   "execution_count": 20,
   "metadata": {},
   "outputs": [],
   "source": [
    "######## Splitting the train data into two sets of 80-20 for training and testing respectively ######## \n",
    "\n",
    "x_train = train\n",
    "X_train, X_test, y_train, y_test = train_test_split(x_train, y_train, test_size=0.2)\n"
   ]
  },
  {
   "cell_type": "code",
   "execution_count": 21,
   "metadata": {},
   "outputs": [],
   "source": [
    "######## Applying random forest Classifier ########\n",
    "######## Taking in Account the following ########\n",
    "######## Trying with different n_estimator ########\n",
    "######## Using criterion as gini ########\n",
    "######## Let the tree  expand until every leaf is pure ie leaving the max_depth default ########\n",
    "\n",
    "RF = RandomForestClassifier(n_estimators = 200, criterion = 'gini')\n",
    "RF.fit(X_train, y_train)\n",
    "y_pred_rf = RF.predict(X_test)\n",
    "\n",
    "\n",
    "# print(y_pred_rf)"
   ]
  },
  {
   "cell_type": "code",
   "execution_count": 22,
   "metadata": {},
   "outputs": [
    {
     "data": {
      "text/plain": [
       "0.5682411383345963"
      ]
     },
     "execution_count": 22,
     "metadata": {},
     "output_type": "execute_result"
    }
   ],
   "source": [
    "accuracy_score(y_test, y_pred_rf)"
   ]
  },
  {
   "cell_type": "code",
   "execution_count": 23,
   "metadata": {},
   "outputs": [
    {
     "name": "stdout",
     "output_type": "stream",
     "text": [
      "[[ 236  175   21   38   94  303  108  299]\n",
      " [ 111  314   26   32  152  326  127  277]\n",
      " [  18   13   81   54   10   12    0    4]\n",
      " [   8    1   13  216    0   24    4   29]\n",
      " [  28   93    0    0  566  231   55  112]\n",
      " [  71   68    1    4   95 1250  221  513]\n",
      " [  25    7    0    1   12  392  589  591]\n",
      " [  12    4    0    3    3  196  111 3497]]\n"
     ]
    }
   ],
   "source": [
    "print(confusion_matrix(y_test, y_pred_rf))"
   ]
  },
  {
   "cell_type": "code",
   "execution_count": 24,
   "metadata": {},
   "outputs": [
    {
     "name": "stdout",
     "output_type": "stream",
     "text": [
      "              precision    recall  f1-score   support\n",
      "\n",
      "           1       0.46      0.19      0.26      1274\n",
      "           2       0.47      0.23      0.31      1365\n",
      "           3       0.57      0.42      0.49       192\n",
      "           4       0.62      0.73      0.67       295\n",
      "           5       0.61      0.52      0.56      1085\n",
      "           6       0.46      0.56      0.50      2223\n",
      "           7       0.48      0.36      0.42      1617\n",
      "           8       0.66      0.91      0.76      3826\n",
      "\n",
      "    accuracy                           0.57     11877\n",
      "   macro avg       0.54      0.49      0.50     11877\n",
      "weighted avg       0.55      0.57      0.54     11877\n",
      "\n"
     ]
    }
   ],
   "source": [
    "print(classification_report(y_test, y_pred_rf))"
   ]
  },
  {
   "cell_type": "code",
   "execution_count": null,
   "metadata": {},
   "outputs": [],
   "source": []
  },
  {
   "cell_type": "code",
   "execution_count": null,
   "metadata": {},
   "outputs": [],
   "source": []
  }
 ],
 "metadata": {
  "kernelspec": {
   "display_name": "Python 3",
   "language": "python",
   "name": "python3"
  },
  "language_info": {
   "codemirror_mode": {
    "name": "ipython",
    "version": 3
   },
   "file_extension": ".py",
   "mimetype": "text/x-python",
   "name": "python",
   "nbconvert_exporter": "python",
   "pygments_lexer": "ipython3",
   "version": "3.7.4"
  }
 },
 "nbformat": 4,
 "nbformat_minor": 4
}
